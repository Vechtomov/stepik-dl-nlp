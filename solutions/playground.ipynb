{
 "cells": [
  {
   "cell_type": "code",
   "execution_count": null,
   "metadata": {},
   "outputs": [],
   "source": [
    "import torch\n",
    "a = torch.randint(0, 10, (3, 4))\n",
    "a, a.new_zeros((2,3))"
   ]
  },
  {
   "cell_type": "code",
   "execution_count": null,
   "metadata": {},
   "outputs": [],
   "source": [
    "a = torch.arange(0, 8).reshape(2, 2, -1)\n",
    "a, a.unsqueeze(0), a.unsqueeze(1), a.unsqueeze(1).shape, a.unsqueeze(2), a.unsqueeze(2).shape"
   ]
  },
  {
   "cell_type": "code",
   "execution_count": null,
   "metadata": {},
   "outputs": [],
   "source": [
    "a1 = torch.arange(0, 12).reshape(3, 4)\n",
    "a2 = torch.arange(12, 24).reshape(3, 4)\n",
    "r0 = torch.stack((a1, a2), dim=0)\n",
    "r1 = torch.stack((a1, a2), dim=1)\n",
    "r2 = torch.stack((a1, a2), dim=2)\n",
    "a1.shape, a2.shape, r0, r1, r2, r0.shape, r1.shape, r2.shape"
   ]
  },
  {
   "cell_type": "code",
   "execution_count": null,
   "metadata": {},
   "outputs": [],
   "source": [
    "a = torch.arange(0, 24).reshape(2, 3, 4)\n",
    "a, a.permute(0, 2, 1), a.permute(0, 2, 1).shape"
   ]
  },
  {
   "cell_type": "code",
   "execution_count": null,
   "metadata": {},
   "outputs": [],
   "source": [
    "a1[:, :-1]"
   ]
  },
  {
   "cell_type": "code",
   "execution_count": null,
   "metadata": {},
   "outputs": [],
   "source": [
    "import numpy as np\n",
    "import numpy.random as npr"
   ]
  },
  {
   "cell_type": "code",
   "execution_count": null,
   "metadata": {},
   "outputs": [],
   "source": [
    "pa = -2.28 / 10\n",
    "pb = -11.5 / 10\n",
    "a = np.exp(pa) / (np.exp(pa) + np.exp(pb))\n",
    "b = np.exp(pb) / (np.exp(pa) + np.exp(pb))\n",
    "a, b"
   ]
  },
  {
   "cell_type": "code",
   "execution_count": null,
   "metadata": {},
   "outputs": [],
   "source": [
    "inp = \"\"\"1\n",
    "0\n",
    "1\n",
    "0\n",
    "0\n",
    "1\n",
    "3\n",
    "0\n",
    "2\n",
    "3\n",
    "0\n",
    "0\n",
    "\"\"\"\n",
    "\n",
    "# parse input as matrix\n",
    "inp = list(map(int, [x for x in inp.split('\\n') if x]))\n",
    "inp = np.array(inp, dtype=int).reshape(3, 4).transpose()\n",
    "q = np.array([0,0,1], dtype=int)\n",
    "r = inp@q"
   ]
  },
  {
   "cell_type": "code",
   "execution_count": null,
   "metadata": {},
   "outputs": [],
   "source": [
    "# apply softmax to r\n",
    "att = np.exp(r) / np.sum(np.exp(r))\n"
   ]
  },
  {
   "cell_type": "code",
   "execution_count": null,
   "metadata": {},
   "outputs": [],
   "source": [
    "inp.transpose()@att"
   ]
  },
  {
   "cell_type": "code",
   "execution_count": null,
   "metadata": {},
   "outputs": [],
   "source": [
    "def print_matrix(matrix):\n",
    "    for row in matrix:\n",
    "        for element in row:\n",
    "            print(f\"{round(element, 2):.2f}\", end=' ')\n",
    "        print()"
   ]
  },
  {
   "cell_type": "code",
   "execution_count": null,
   "metadata": {},
   "outputs": [],
   "source": [
    "inp = np.array([[1,0,1,0],[0,1,1,0]]).transpose()\n",
    "l = inp@inp.T\n",
    "print(l)\n",
    "att = torch.softmax(torch.tensor(l, dtype=torch.float), dim=1)\n",
    "att"
   ]
  },
  {
   "cell_type": "code",
   "execution_count": null,
   "metadata": {},
   "outputs": [],
   "source": [
    "res = att@torch.tensor(inp, dtype=torch.float)"
   ]
  },
  {
   "cell_type": "code",
   "execution_count": null,
   "metadata": {},
   "outputs": [],
   "source": [
    "print_matrix(res.numpy())"
   ]
  },
  {
   "cell_type": "code",
   "execution_count": null,
   "metadata": {},
   "outputs": [],
   "source": [
    "def self_attention(inp, pk, pq, pv, bk, bq, bv):\n",
    "    keys = inp@pk+bk\n",
    "    queries = inp@pq+bq\n",
    "    values = inp@pv+bv\n",
    "\n",
    "    logits = queries@keys.T\n",
    "    att = torch.softmax(logits, dim=1)\n",
    "    return att@values"
   ]
  },
  {
   "cell_type": "code",
   "execution_count": null,
   "metadata": {},
   "outputs": [],
   "source": [
    "inp = torch.tensor([[1,0,1,0],[0,1,1,0]], dtype=torch.float).transpose(0,1)\n",
    "pk = torch.tensor([[1,0],[0,0]], dtype=torch.float)\n",
    "pq = torch.tensor([[0,0],[1,0]], dtype=torch.float)\n",
    "pv = torch.tensor([[1,0],[0,1]], dtype=torch.float)\n",
    "bk = bq = bv = torch.tensor([0,0], dtype=torch.float)\n",
    "\n",
    "res = self_attention(inp, pk, pq, pv, bk, bq, bv)\n",
    "\n",
    "print_matrix(res.numpy())"
   ]
  },
  {
   "cell_type": "code",
   "execution_count": null,
   "metadata": {},
   "outputs": [],
   "source": [
    "inp = torch.tensor([[1,0,1,0],[0,1,1,0]], dtype=torch.float).transpose(0,1)\n",
    "pk1 = torch.tensor([[1,0],[0,0]], dtype=torch.float)\n",
    "pk2 = torch.tensor([[0,0],[1,0]], dtype=torch.float)\n",
    "pq1 = torch.tensor([[0,1],[1,0]], dtype=torch.float)\n",
    "pq2 = torch.tensor([[1,1],[1,1]], dtype=torch.float)\n",
    "pv1 = torch.tensor([[1],[0]], dtype=torch.float)\n",
    "pv2 = torch.tensor([[0],[1]], dtype=torch.float)\n",
    "bk = bq = torch.tensor([0,0], dtype=torch.float)\n",
    "bv = torch.tensor([0], dtype=torch.float)\n",
    "\n",
    "res1 = self_attention(inp, pk1, pq1, pv1, bk, bq, bv)\n",
    "res2 = self_attention(inp, pk2, pq2, pv2, bk, bq, bv)\n",
    "\n",
    "res = torch.stack((res1.squeeze(1), res2.squeeze(1)), dim=1)\n",
    "# res1, res1.squeeze(1)\n",
    "# , res2, res\n",
    "res\n",
    "print_matrix(res.numpy())"
   ]
  },
  {
   "cell_type": "code",
   "execution_count": null,
   "metadata": {},
   "outputs": [],
   "source": [
    "print_matrix(res.numpy())"
   ]
  },
  {
   "cell_type": "code",
   "execution_count": 20,
   "metadata": {},
   "outputs": [
    {
     "data": {
      "text/plain": [
       "array([2.5, 3.5, 4.5])"
      ]
     },
     "execution_count": 20,
     "metadata": {},
     "output_type": "execute_result"
    }
   ],
   "source": [
    "np.array([[1,2,3], [4,5,6]]).mean(axis=0)"
   ]
  }
 ],
 "metadata": {
  "kernelspec": {
   "display_name": "Python 3.9.2 64-bit",
   "language": "python",
   "name": "python3"
  },
  "language_info": {
   "codemirror_mode": {
    "name": "ipython",
    "version": 3
   },
   "file_extension": ".py",
   "mimetype": "text/x-python",
   "name": "python",
   "nbconvert_exporter": "python",
   "pygments_lexer": "ipython3",
   "version": "3.9.2"
  },
  "orig_nbformat": 4,
  "vscode": {
   "interpreter": {
    "hash": "87ca4934905532d15cbd0e1b39f8ec7c82379aae06d4434255c4ab2516c6087a"
   }
  }
 },
 "nbformat": 4,
 "nbformat_minor": 2
}
